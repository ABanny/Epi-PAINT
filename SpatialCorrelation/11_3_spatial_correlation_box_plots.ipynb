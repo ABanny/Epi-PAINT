{
 "cells": [
  {
   "cell_type": "markdown",
   "id": "a1935948",
   "metadata": {},
   "source": [
    "# Spatial Correlation Plotter _ 3\n",
    "\n",
    "#### Note: Use epi-paint kernel. "
   ]
  },
  {
   "cell_type": "markdown",
   "id": "d551a769",
   "metadata": {},
   "source": [
    "What does this do?\n",
    "- Build box plots for visualizing the distribution of the fraction of points above a threshold value."
   ]
  },
  {
   "cell_type": "code",
   "execution_count": null,
   "id": "a88033e1",
   "metadata": {},
   "outputs": [],
   "source": [
    "import numpy as _np\n",
    "import pandas as _pd\n",
    "import matplotlib.pyplot as _plt\n",
    "import seaborn as _sns\n",
    "import os.path as _ospath\n",
    "import os as _os"
   ]
  },
  {
   "cell_type": "code",
   "execution_count": null,
   "id": "683c0b2e",
   "metadata": {},
   "outputs": [],
   "source": [
    "folder = '' # Folder name for specific cell.\n",
    "maximum_threshold = 0.7\n",
    "minimum_threshold = -0.7\n",
    "min_radius = 100\n",
    "step_size = 100\n",
    "maximum_radius = 1000\n",
    "correlation_data_folder = _ospath.join(folder, 'Analysis', 'Correlations', str(min_radius) + '_' + str(step_size) + '_' +str(maximum_radius))\n",
    "correlation_data_files = [f for f in _os.listdir(correlation_data_folder) if f.endswith('.csv')]\n",
    "\n",
    "output_folder = _ospath.join(folder, 'Analysis', 'Correlations', 'Plots' + '_' + str(min_radius) + '_' + str(step_size) + '_' +str(maximum_radius))\n",
    "if not _ospath.exists(output_folder):\n",
    "    _os.makedirs(output_folder)"
   ]
  },
  {
   "cell_type": "code",
   "execution_count": null,
   "id": "60364064",
   "metadata": {},
   "outputs": [],
   "source": [
    "def fraction_data_above_threshold(data, threshold):\n",
    "    return _np.sum(data > threshold) / len(data) * 100\n",
    "\n",
    "def fraction_data_below_threshold(data, threshold):\n",
    "    return _np.sum(data < threshold) / len(data) * -100\n",
    "\n",
    "def feature_type(protein_1, protein_2):\n",
    "    euchromatin = ['S2P', 'S5P', 'SC35', 'H3K4me3', 'H3K27ac']\n",
    "    heterochromatin = ['H3K9me3', 'H3K27me3', 'Lamin']\n",
    "    other = ['CTCF']\n",
    "\n",
    "    if protein_1 in euchromatin and protein_2 in euchromatin:\n",
    "        return 'eu-eu'\n",
    "    elif protein_1 in heterochromatin and protein_2 in heterochromatin:\n",
    "        return 'het-het'\n",
    "    elif protein_1 in euchromatin and protein_2 in heterochromatin:\n",
    "        return 'eu_het'\n",
    "    elif protein_1 in heterochromatin and protein_2 in euchromatin:\n",
    "        return 'het_eu'\n",
    "    elif protein_1 in other and protein_2 in euchromatin:\n",
    "        return 'eu-eu'\n",
    "    elif protein_1 in euchromatin and protein_2 in other:\n",
    "        return 'eu-eu'\n",
    "    elif protein_1 in other and protein_2 in heterochromatin:\n",
    "        return 'het-het'\n",
    "    elif protein_1 in heterochromatin and protein_2 in other:\n",
    "        return 'het-het'\n",
    "    else:\n",
    "        return 'other'"
   ]
  },
  {
   "cell_type": "code",
   "execution_count": null,
   "id": "9ca51e8e",
   "metadata": {},
   "outputs": [],
   "source": [
    "data = []\n",
    "for file in correlation_data_files:\n",
    "    if 'CTCF' in file:\n",
    "        continue\n",
    "    if 'vs' in file: # An easy work around as there are other *.csv files in the folder that are not correlation data.\n",
    "        protein_1 = file.split('_')[0]\n",
    "        protein_2 = file.split('_')[2].split('.')[0]\n",
    "        data_file = _np.loadtxt(_ospath.join(correlation_data_folder, file), delimiter=',')\n",
    "        data_file = _np.nan_to_num(data_file)\n",
    "        fraction_above_maximum = fraction_data_above_threshold(data_file, maximum_threshold)\n",
    "        fraction_below_minimum = fraction_data_below_threshold(data_file, minimum_threshold)\n",
    "        feature = feature_type(protein_1, protein_2)\n",
    "        data.append({\n",
    "            'Protein_Pair': protein_1 + '_' + protein_2,\n",
    "            'Fraction_Above_Positive_Threshold': fraction_above_maximum, \n",
    "            'Fraction_Below_Negative_Threshold': fraction_below_minimum, \n",
    "            'Feature_Type': feature\n",
    "        })\n",
    "    \n",
    "data = _pd.DataFrame(data, columns=['Protein_Pair', 'Fraction_Above_Positive_Threshold', 'Fraction_Below_Negative_Threshold', 'Feature_Type'])\n",
    "data['SC35'] = _np.where(data['Protein_Pair'].str.contains('SC35'), 'Yes', 'No')\n",
    "filter = ['eu-eu', 'eu_het', 'het_eu']\n",
    "data = data[data['Feature_Type'].isin(filter)]\n",
    "data_sc35 = data[data['Protein_Pair'].str.contains('SC35')]\n",
    "data_not_sc35 = data[~data['Protein_Pair'].str.contains('SC35')]\n"
   ]
  },
  {
   "cell_type": "code",
   "execution_count": null,
   "id": "36c42097",
   "metadata": {},
   "outputs": [],
   "source": [
    "color_palette_pos = {\n",
    "    'Yes' : '#ff7e00',\n",
    "    'No' : '#9d9d9d'\n",
    "}\n",
    "\n",
    "color_palette_neg = {\n",
    "    'Yes' : '#7F5AFF',\n",
    "    'No' : '#9d9d9d'\n",
    "}\n",
    "_plt.figure(figsize=(3, 5))\n",
    "_sns.boxplot(data = data, x = 'Feature_Type', y = 'Fraction_Above_Positive_Threshold', hue = 'SC35', legend = False, palette = color_palette_pos, dodge = True, whis = [0, 100], linecolor= 'k', fill = True)\n",
    "_sns.stripplot(data = data, x = 'Feature_Type', y = 'Fraction_Above_Positive_Threshold', hue = 'SC35', legend = False, alpha = 1, palette = 'light:#aaff00', linewidth=1, dodge = True)\n",
    "_sns.boxplot(data = data, x = 'Feature_Type', y = 'Fraction_Below_Negative_Threshold', hue = 'SC35', legend = False, palette = color_palette_neg, dodge = True, whis = [0, 100], linecolor= 'k', fill = True)\n",
    "_sns.stripplot(data = data, x = 'Feature_Type', y = 'Fraction_Below_Negative_Threshold', hue = 'SC35', legend = False, alpha = 1, palette = 'light:#aaff00', linewidth=1, dodge = True)\n",
    "_plt.ylim(-45, 45)\n",
    "_plt.yticks([-45, -30, -15, 0, 15, 30, 45])\n",
    "_plt.axhline(y = 0, color = 'black', linestyle = '-', linewidth = 1)\n",
    "_plt.ylabel('Fraction of Data (%)')\n",
    "_plt.savefig(_ospath.join(output_folder, 'DoC_fractions.svg'), format = 'svg', bbox_inches = 'tight')\n",
    "_plt.show"
   ]
  }
 ],
 "metadata": {
  "kernelspec": {
   "display_name": "epi-paint",
   "language": "python",
   "name": "python3"
  },
  "language_info": {
   "codemirror_mode": {
    "name": "ipython",
    "version": 3
   },
   "file_extension": ".py",
   "mimetype": "text/x-python",
   "name": "python",
   "nbconvert_exporter": "python",
   "pygments_lexer": "ipython3",
   "version": "3.10.16"
  }
 },
 "nbformat": 4,
 "nbformat_minor": 5
}
