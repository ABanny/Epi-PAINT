{
 "cells": [
  {
   "cell_type": "markdown",
   "metadata": {},
   "source": [
    "# Spatial Correlation Analysis\n",
    "\n",
    "#### Note: Use the epi-paint kernel"
   ]
  },
  {
   "cell_type": "markdown",
   "metadata": {},
   "source": [
    "What is this used for?\n",
    "- Calculates the spatial correlation for each localization with respect to another target. \n",
    "- Saves the list of the DoC values as a list. "
   ]
  },
  {
   "cell_type": "markdown",
   "metadata": {},
   "source": [
    "Workflow\n",
    "- Define Folder of Cell to Analyse.\n",
    "- Define the radius and step sizes that you are to calculate DoC for.\n",
    "- Define protein species that are part of the analysis.\n",
    "- Call each pair of protein species batchwise and calculate DoC for each localization. \n",
    "- Save the DoC values for each localization."
   ]
  },
  {
   "cell_type": "code",
   "execution_count": null,
   "metadata": {},
   "outputs": [],
   "source": [
    "# Import dependencies\n",
    "\n",
    "import os as _os\n",
    "import os.path as _ospath\n",
    "import numpy as _np\n",
    "import pandas as _pd\n",
    "import h5py as _h5py\n",
    "import yaml as _yaml\n",
    "from PyQt5.QtWidgets import QMessageBox as _QMessageBox\n",
    "import matplotlib.pyplot as _plt\n",
    "from scipy.stats import spearmanr\n",
    "from scipy.spatial import cKDTree\n",
    "import itertools\n",
    "from tqdm import tqdm"
   ]
  },
  {
   "cell_type": "code",
   "execution_count": null,
   "metadata": {},
   "outputs": [],
   "source": [
    "# Define the folder location and the file extension inside the folder.\n",
    "\n",
    "folder = '' # Folder name for specific cell.\n",
    "min_radius = 100\n",
    "step_size = 100\n",
    "max_radius = 1000\n",
    "folder = _ospath.join(folder, 'Masked')\n",
    "file_extn = '.hdf5'\n",
    "pixel_size = 130\n",
    "file_names = [f for f in _os.listdir(folder) if f.endswith(file_extn)]"
   ]
  },
  {
   "cell_type": "code",
   "execution_count": null,
   "metadata": {},
   "outputs": [],
   "source": [
    "# Define the output folder.\n",
    "\n",
    "parent_folder, working_folder = _ospath.split(folder)\n",
    "output_parent_folder = _ospath.join(parent_folder, 'Analysis', 'Correlations')\n",
    "if not _ospath.exists(output_parent_folder):\n",
    "    _os.makedirs(output_parent_folder)"
   ]
  },
  {
   "cell_type": "code",
   "execution_count": null,
   "metadata": {},
   "outputs": [],
   "source": [
    "list_of_proteins = []\n",
    "\n",
    "for file in file_names:\n",
    "    protein = file.split('_')[0]\n",
    "    if protein not in list_of_proteins:\n",
    "        list_of_proteins.append(protein)\n",
    "\n",
    "# Order the list of proteins\n",
    "order = ['S2P', 'S5P', 'SC35', 'H3K4me3', 'H3K27ac', 'CTCF', 'H3K27me3', 'H3K9me3', 'Lamin']\n",
    "list_of_proteins = sorted(list_of_proteins, key = order.index)"
   ]
  },
  {
   "cell_type": "code",
   "execution_count": null,
   "metadata": {},
   "outputs": [],
   "source": [
    "# Define radii for analysis in nanometers\n",
    "radii = _np.arange(min_radius, max_radius + step_size, step_size)\n",
    "print(f'For every point, there will be {len(radii)} radii calculated!')"
   ]
  },
  {
   "cell_type": "code",
   "execution_count": null,
   "metadata": {},
   "outputs": [],
   "source": [
    "def load_locs(path, qt_parent=None):\n",
    "    with _h5py.File(path, \"r\") as locs_file:\n",
    "        locs = locs_file[\"locs\"][...]\n",
    "    locs = _np.rec.array(\n",
    "        locs, dtype=locs.dtype\n",
    "    )  # Convert to rec array with fields as attributes\n",
    "    info = load_info(path, qt_parent=qt_parent)\n",
    "    return locs, info\n",
    "\n",
    "class NoMetadataFileError(FileNotFoundError):\n",
    "    pass\n",
    "\n",
    "def load_info(path, qt_parent=None):\n",
    "    path_base, path_extension = _ospath.splitext(path)\n",
    "    filename = path_base + \".yaml\"\n",
    "    try:\n",
    "        with open(filename, \"r\") as info_file:\n",
    "            info = list(_yaml.load_all(info_file, Loader=_yaml.UnsafeLoader))\n",
    "    except FileNotFoundError as e:\n",
    "        print(\"\\nAn error occured. Could not find metadata file:\\n{}\".format(filename))\n",
    "        if qt_parent is not None:\n",
    "            _QMessageBox.critical(\n",
    "                qt_parent,\n",
    "                \"An error occured\",\n",
    "                \"Could not find metadata file:\\n{}\".format(filename),\n",
    "            )\n",
    "        raise NoMetadataFileError(e)\n",
    "    return info\n",
    "\n",
    "def gradient_density(tree, spot, radii):\n",
    "    distances, _ = tree.query(spot, k=len(tree.data), distance_upper_bound=max_radius)\n",
    "    distances = distances[distances < max_radius]  # Filter valid distances\n",
    "    densities = _np.array([_np.sum(distances <= r) / (_np.pi * r**2) for r in radii])\n",
    "    return densities\n",
    "\n",
    "def doc_calc(tree_a, tree_b, data_a, radii, protein_a, protein_b, output_parent_folder):\n",
    "    doc_value = []\n",
    "    for spot in tqdm(data_a, desc=f'Calculating DOC for {protein_a} vs {protein_b}'):\n",
    "        density_1 = gradient_density(tree_a, spot, radii)\n",
    "        density_2 = gradient_density(tree_b, spot, radii)\n",
    "        corr = spearmanr(density_1, density_2) [0]\n",
    "        if corr == _np.nan:\n",
    "            corr = 0\n",
    "        doc_value.append(corr)\n",
    "    doc_value = _np.array(doc_value)\n",
    "    output_folder = _ospath.join(output_parent_folder, str(min_radius) + '_' + str(step_size) + '_' + str(max_radius))\n",
    "    if not _ospath.exists(output_folder):\n",
    "        _os.makedirs(output_folder)\n",
    "    _np.savetxt(_ospath.join(output_folder, f'{protein_a}_vs_{protein_b}.csv'), doc_value, delimiter=',', fmt='%.4f')\n",
    "    return doc_value\n",
    "\n",
    "def plot_doc_map(data, doc_values, protein_a, protein_b):\n",
    "    _plt.figure(figsize=(8, 6))\n",
    "    _plt.scatter(data[:, 0], data[:, 1], c=doc_values, cmap='coolwarm', marker='o', s=1)\n",
    "    _plt.colorbar(label=f'DoC Score {protein_a} vs {protein_b}')\n",
    "    _plt.title(f'DoC Map for {protein_a} vs {protein_b}')\n",
    "    _plt.gca().invert_yaxis()\n",
    "    _plt.show()"
   ]
  },
  {
   "cell_type": "code",
   "execution_count": null,
   "metadata": {},
   "outputs": [],
   "source": [
    "correlation_matrix = _pd.DataFrame(index = list_of_proteins, columns = list_of_proteins, dtype = float)\n",
    "counter = 0\n",
    "for (i, file_1), (j, file_2) in itertools.combinations(enumerate(file_names), 2):\n",
    "    protein_1 = file_1.split('_')[0]\n",
    "    protein_2 = file_2.split('_')[0]\n",
    "    # if protein_1 == 'SC35' or protein_2 == 'SC35': # Use this when the size of any protein sample is really large. # To Do: Parallelize the thread when large sample size is encountered.\n",
    "    #     continue\n",
    "    counter += 1\n",
    "    print(f'Comparing {protein_1} and {protein_2}. ({counter}/{int(len(file_names)*(len(file_names)-1))/2:.0f})')\n",
    "    locs_1, info_1 = load_locs(_ospath.join(folder, file_1))\n",
    "    locs_2, info_2 = load_locs(_ospath.join(folder, file_2))\n",
    "    data_1 = _np.column_stack((locs_1.x, locs_1.y))\n",
    "    data_1 = data_1 * pixel_size\n",
    "    data_2 = _np.column_stack((locs_2.x, locs_2.y))\n",
    "    data_2 = data_2 * pixel_size\n",
    "    tree_1 = cKDTree(data_1)\n",
    "    tree_2 = cKDTree(data_2)\n",
    "    # Calcualte DoC for Protein 1 vs Protein 2\n",
    "    doc_1_vs_2 = doc_calc(tree_1, tree_2, data_1, radii, protein_1, protein_2, output_parent_folder)\n",
    "    doc_2_vs_1 = doc_calc(tree_2, tree_1, data_2, radii, protein_2, protein_1, output_parent_folder)"
   ]
  }
 ],
 "metadata": {
  "kernelspec": {
   "display_name": "epi-paint",
   "language": "python",
   "name": "python3"
  },
  "language_info": {
   "codemirror_mode": {
    "name": "ipython",
    "version": 3
   },
   "file_extension": ".py",
   "mimetype": "text/x-python",
   "name": "python",
   "nbconvert_exporter": "python",
   "pygments_lexer": "ipython3",
   "version": "3.10.16"
  }
 },
 "nbformat": 4,
 "nbformat_minor": 2
}
