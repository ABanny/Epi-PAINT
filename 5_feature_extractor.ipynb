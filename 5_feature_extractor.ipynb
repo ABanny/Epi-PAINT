{
 "cells": [
  {
   "cell_type": "markdown",
   "metadata": {},
   "source": [
    "# Feature Extractor\n",
    "\n",
    "#### Note: Use the picasso kernel only"
   ]
  },
  {
   "cell_type": "markdown",
   "metadata": {},
   "source": [
    "What is this used for? \n",
    "- This code extracts the different features from the datasets and stores it as a panda dataframe.\n",
    "- This dataframe can then be used for next steps of data analysis. "
   ]
  },
  {
   "cell_type": "markdown",
   "metadata": {},
   "source": [
    "Workflow\n",
    "- Define source folder location and files.\n",
    "- Load the sector information file and make an array with the number of rows equal to the sector numbers. \n",
    "- Load each dataset.\n",
    "    - Extract the unique numbers of entries and counts for each sector ID.\n",
    "    - Attach this information in a new column. \n",
    "- Save the table in a file to be read by another script. \n"
   ]
  },
  {
   "cell_type": "code",
   "execution_count": null,
   "metadata": {},
   "outputs": [],
   "source": [
    "#  Import Dependencies.\n",
    "\n",
    "import os.path as _ospath\n",
    "import os as _os\n",
    "import numpy as _np\n",
    "import pandas as _pd\n",
    "import yaml as _yaml\n",
    "from picasso import io as _io\n",
    "from tqdm import tqdm"
   ]
  },
  {
   "cell_type": "code",
   "execution_count": null,
   "metadata": {},
   "outputs": [],
   "source": [
    "# Define the folder location and the file extension inside the folder.\n",
    "\n",
    "folder = '' # Folder name for specific cell.\n",
    "folder = _ospath.join(folder, 'Sectored')\n",
    "file_extn = '.hdf5'\n",
    "file_names = [f for f in _os.listdir(folder) if f.endswith(file_extn)]\n",
    "windows = [1] # !!! Use only Odd Numbers !!! Defines the pixel window size from where the counts need to to extracted. 1 = 1px by 1px; 3 = 3px by 3px; 5 = 5px by 5px."
   ]
  },
  {
   "cell_type": "code",
   "execution_count": null,
   "metadata": {},
   "outputs": [],
   "source": [
    "# Read the yaml information to define the number of sectors.\n",
    "\n",
    "file_extn_yaml = '.yaml'\n",
    "file_names_yaml = [f for f in _os.listdir(folder) if f.endswith(file_extn_yaml)]\n",
    "\n",
    "for file_yaml in file_names_yaml:\n",
    "    if 'sector_info' in file_yaml:\n",
    "        with open(_ospath.join(folder, file_yaml), 'r') as f_yaml:\n",
    "            sector_info = _yaml.load(f_yaml, Loader=_yaml.FullLoader)\n",
    "            break\n",
    "\n",
    "number_of_sectors = sector_info['number_of_sectors']"
   ]
  },
  {
   "cell_type": "code",
   "execution_count": null,
   "metadata": {},
   "outputs": [],
   "source": [
    "# Generate the dataframe.\n",
    "\n",
    "data = _pd.DataFrame(index=range(1, number_of_sectors + 1))"
   ]
  },
  {
   "cell_type": "code",
   "execution_count": null,
   "metadata": {},
   "outputs": [],
   "source": [
    "# Funcions used in the script.\n",
    "\n",
    "def counter(locs):\n",
    "    sectors, counts = _np.unique(locs['sector_id'], return_counts=True)\n",
    "    sector_count_dict = dict(zip(sectors, counts))\n",
    "    return sector_count_dict\n",
    "\n",
    "def save_data_csv(data, window, folder):\n",
    "    file_name = 'data' + '_' + str(window) + '.csv'\n",
    "    output_path = _ospath.join(folder, file_name)\n",
    "    data.to_csv(output_path, index=True)\n",
    "\n",
    "def calculate_neighborhood_counts(locs, window, protein_name):\n",
    "    x_pixel_pos = locs['x_pixel_pos'][:]\n",
    "    y_pixel_pos = locs['y_pixel_pos'][:]\n",
    "    sector_id = locs['sector_id'][:]\n",
    "    locs = _pd.DataFrame({'x_pixel_pos': x_pixel_pos, 'y_pixel_pos': y_pixel_pos, 'sector_id': sector_id})\n",
    "    neighbor_size = int(window/2 - 0.5) # Defines how many pixels on each side do we have to take. \n",
    "    counts = []\n",
    "    # Iterate over each unique pixel position\n",
    "    unique_pixels = locs.groupby(['x_pixel_pos', 'y_pixel_pos'])\n",
    "    for (x, y), group in tqdm(unique_pixels, desc=f'Calculating neighborhood counts for {protein_name} with {window} x {window} pixel window.'):\n",
    "        # Filter points within a 3x3 neighborhood\n",
    "        neighborhood = locs[(locs['x_pixel_pos'].between(x - neighbor_size, x + neighbor_size)) &\n",
    "                          (locs['y_pixel_pos'].between(y - neighbor_size, y + neighbor_size))]\n",
    "        count = len(neighborhood)\n",
    "        sector = group['sector_id'].iloc[0]  # Get the sector_id for the center pixel\n",
    "        counts.append((sector, count))\n",
    "    # Convert to DataFrame\n",
    "    return counts"
   ]
  },
  {
   "cell_type": "code",
   "execution_count": null,
   "metadata": {},
   "outputs": [],
   "source": [
    "# Extract the data from the files and save the data.\n",
    "for window in windows: # Iterates through the defined windowing sizes and saves the output count files as data_{window}.csv in the same folder. \n",
    "    for file in file_names:\n",
    "        fpath = _ospath.join(folder, file)\n",
    "        locs, info = _io.load_locs(fpath)\n",
    "        protein_name = file.split('_')[0]\n",
    "        sector_count_dict = calculate_neighborhood_counts(locs, window, protein_name)\n",
    "        sector_count_dict = dict(sector_count_dict)\n",
    "        data[protein_name] = data.index.map(lambda sector_id: sector_count_dict.get(sector_id, _np.nan))\n",
    "        # print(f'{protein_name} data extracted')\n",
    "\n",
    "    # Sort data columns in order\n",
    "\n",
    "    order = ['S2P', 'S5P', 'SC35', 'H3K4me3', 'H3K27ac', 'CTCF', 'H3K27me3', 'H3K9me3', 'Lamin']\n",
    "    data = data[order]\n",
    "\n",
    "    # print('The max values for each protein in a window are:')\n",
    "    # print(data.max())\n",
    "\n",
    "    save_data_csv(data, window, folder)\n",
    "    print(f'Saved feature counts for window size {window} to {folder}/data_{window}.csv')"
   ]
  }
 ],
 "metadata": {
  "kernelspec": {
   "display_name": "picasso",
   "language": "python",
   "name": "python3"
  },
  "language_info": {
   "codemirror_mode": {
    "name": "ipython",
    "version": 3
   },
   "file_extension": ".py",
   "mimetype": "text/x-python",
   "name": "python",
   "nbconvert_exporter": "python",
   "pygments_lexer": "ipython3",
   "version": "3.10.13"
  }
 },
 "nbformat": 4,
 "nbformat_minor": 2
}
